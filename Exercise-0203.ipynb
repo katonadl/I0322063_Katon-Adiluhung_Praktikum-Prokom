{
 "cells": [
  {
   "cell_type": "code",
   "execution_count": 1,
   "metadata": {},
   "outputs": [
    {
     "name": "stdout",
     "output_type": "stream",
     "text": [
      "Katon Adiluhung\n",
      "I0322063\n",
      "B\n"
     ]
    }
   ],
   "source": [
    "print(input(\"masukkan nama\"))\n",
    "print(input(\"masukkan NIM\"))\n",
    "print(input(\"masukkan kelas\"))\n"
   ]
  },
  {
   "attachments": {},
   "cell_type": "markdown",
   "metadata": {},
   "source": [
    "## 1."
   ]
  },
  {
   "attachments": {},
   "cell_type": "markdown",
   "metadata": {},
   "source": [
    "* **A** Hitunglah luas Prisma Segitiga dengan ketentuan sebagai berikut:\n",
    "    * Alas dan tutup prisma merupakan segitiga\n",
    "    * Terdapat 3 persegi panjang yang menyinggung alas dan tutup prisma\n",
    "    * Sisi persegi panjang yang menyinggung segitiga adalah sisi lebar\n",
    "```python\n",
    "    dictionary_figure = {\"Persegi\":{\"Sisi\":22},\n",
    "                        \"Persegi Panjang\":{\"Panjang\":10,\"Lebar\":5},\n",
    "                        \"Segitiga Sama Sisi\":{\"Sisi\":6,\"Tinggi\":3**(1/2) * 3},\n",
    "                        \"Lingkaran\":{\"Diameter\":7}}\n",
    "```\n",
    "* **B** Hitunglah luas Tabung dengan ketentuan sebagai berikut:\n",
    "    * Alas dan tutup tabung merupakan lingkaran\n",
    "    * Terdapat 1 persegi yang menyinggung alas dan tutup tabung\n",
    "    * Persegi yang ada mengelilingi lingkaran hingga sisi dari persegi saling bertemu\n",
    "\n",
    "> **note:** *Pada soal ini kalian hanya boleh menggunakan key-value pair dan index pada list. Tidak diperbolehkan menulis secara langsung dimensi dari figure*"
   ]
  },
  {
   "cell_type": "code",
   "execution_count": 11,
   "metadata": {},
   "outputs": [
    {
     "name": "stdout",
     "output_type": "stream",
     "text": [
      "Luas Permukaan dari Prisma Segitiga adalah = (2*(alas*tinggi/2) + (3*(panjang*lebar) 181.18\n",
      "Luas Permukaan dari Tabung adalah = 522.5 522.5\n"
     ]
    }
   ],
   "source": [
    "dictionary_figure = {\"Persegi\":{\"Sisi\":22},\n",
    "                        \"Persegi Panjang\":{\"Panjang\":10, \"Lebar\":5},\n",
    "                        \"Segitiga Sama Sisi\":{\"Sisi\":6,\"Tinggi\":3**(1/2) * 3},\n",
    "                        \"Lingkaran\":{\"Diameter\":7}}\n",
    "\n",
    "panjang = (dictionary_figure[\"Persegi Panjang\"][\"Panjang\"])\n",
    "lebar = (dictionary_figure[\"Persegi Panjang\"][\"Lebar\"])\n",
    "sisi = (dictionary_figure[\"Persegi\"][\"Sisi\"])\n",
    "tinggi = (dictionary_figure[\"Segitiga Sama Sisi\"][\"Tinggi\"])\n",
    "alas = (dictionary_figure[\"Segitiga Sama Sisi\"][\"Sisi\"])\n",
    "diameter = (dictionary_figure[\"Lingkaran\"][\"Diameter\"])\n",
    "phi = 22/7\n",
    "\n",
    "soala = (2*(alas*tinggi/2)) + (3*(panjang*lebar))\n",
    "soalb = (phi*(diameter**2)/4) + (phi*diameter*s)\n",
    "print(\"Luas Permukaan dari Prisma Segitiga adalah =\", \"(2*(alas*tinggi/2) + (3*(panjang*lebar)\", round(soala,2))\n",
    "print(\"Luas Permukaan dari Tabung adalah =\", (phi*(diameter**2)/4) + (phi*diameter*sisi), round(soalb,2))"
   ]
  },
  {
   "attachments": {},
   "cell_type": "markdown",
   "metadata": {},
   "source": [
    "## 2."
   ]
  },
  {
   "attachments": {},
   "cell_type": "markdown",
   "metadata": {},
   "source": [
    "Diberikan List sebagai berikut\n",
    "```Python\n",
    "    data = [8, 8, 4, 6, 8, 9, 6, 5, 4, 7]\n",
    "```\n",
    "* Tambahkan 3 angka baru ke dalam list\n",
    "* Tampilkan output list dengan berurutan dari yang terkecil hingga yang terbesar\n",
    "* Tentukan mean, median, dan modus pada list baru"
   ]
  },
  {
   "cell_type": "code",
   "execution_count": 1,
   "metadata": {},
   "outputs": [
    {
     "name": "stdout",
     "output_type": "stream",
     "text": [
      "urutan angka dari data yang ada adalah [4, 4, 5, 6, 6, 7, 8, 8, 8, 8, 9, 9, 9]\n",
      "Hasil dari mean pada data yang ada adalah 7.0\n",
      "Hasil dari median pada data yang tersedia adalah 8\n",
      "Hasil dari modus pada data yang tersedia adalah 8\n"
     ]
    }
   ],
   "source": [
    "angkapertama = int(input(\"masukkan angka pertama\"))\n",
    "angkakedua = int(input(\"masukkan angka kedua\"))\n",
    "angkaketiga = int(input(\"masukkan angka ketiga\"))\n",
    "angkakeempat = [8,8,4,6,8,9,6,5,4,7]\n",
    "\n",
    "angkakelima = [angkapertama,angkakedua,angkaketiga]\n",
    "angkakeempat.extend(angkakelima)\n",
    "angkakeempat.sort()\n",
    "print(\"urutan angka dari data yang ada adalah\", angkakeempat)\n",
    "\n",
    "mean = (sum(angkakeempat))/13 \n",
    "median = angkakeempat[6] \n",
    "modus = max(angkakeempat, key=angkakeempat.count)\n",
    "print(\"Hasil dari mean pada data yang ada adalah\", mean)\n",
    "print(\"Hasil dari median pada data yang tersedia adalah\", median)\n",
    "print(\"Hasil dari modus pada data yang tersedia adalah\", modus)"
   ]
  },
  {
   "attachments": {},
   "cell_type": "markdown",
   "metadata": {},
   "source": [
    "## 3. "
   ]
  },
  {
   "attachments": {},
   "cell_type": "markdown",
   "metadata": {},
   "source": [
    "Dalam pembuatan SIM ada beberapa syarat yang harus dipenuhi bagi para pembuat SIM yaitu:\n",
    "1. Pembuat SIM harus memiliki usia setidaknya 17 tahun\n",
    "2. Pembuat SIM lulus dalam tes kesehatan\n",
    "3. Pembuat SIM lulus dalam uji psikotes\n",
    "4. Pembuat SIM telah mengikuti ujian tertulis dengan nilai setidaknya 70\n",
    "5. Pembuat SIM lulus dalam simulasi berkendara\n",
    "6. Apabila pembuat SIM memiliki surat rekomendasi dari kursus berkendara maka pembuat SIM akan mendapatkan SIM (mengabaikan poin 1-5 apabila poin ke-6 terpenuhi)\n",
    "\n",
    "Buatlah input yang membuat setiap poin menjadi variabel. Output yang dihasilkan merupakan \"True\" apabila pembuat berhak mendapatkan SIM dan \"False\" apabila pembuat tidak berhak mendapatkan SIM.\n",
    "\n",
    "> **note:** *Tidak perlu menggunakan loops dalam membuat programnya*"
   ]
  },
  {
   "cell_type": "code",
   "execution_count": 5,
   "metadata": {},
   "outputs": [
    {
     "name": "stdout",
     "output_type": "stream",
     "text": [
      "berhak mendapatkan SIM? True\n"
     ]
    }
   ],
   "source": [
    "usia = int(input(\"berapa usia pembuat SIM: \"))\n",
    "tes_kesehatan = input(\"lulus tes kesehatan (ya/tidak)\")\n",
    "uji_psikotes = input(\"lulus uji psikotes (ya/tidak)\")\n",
    "nilai_ujiantulis = float(input(\"nilai ujian tulis: \"))\n",
    "simulasi = input(\"lulus simulasi berkendara (ya/tidak)\")\n",
    "surat_rekomendasi = input(\"terdapat surat rekomendasi dari kursus berkendara (ya/tidak)\")\n",
    "\n",
    "hasil = usia >=17 and tes_kesehatan ==\"ya\" and uji_psikotes ==\"ya\" and nilai_ujiantulis >=70 and simulasi ==\"ya\" or surat_rekomendasi == \"ya\"\n",
    "\n",
    "print (\"berhak mendapatkan SIM?\", hasil)"
   ]
  }
 ],
 "metadata": {
  "kernelspec": {
   "display_name": "Python 3",
   "language": "python",
   "name": "python3"
  },
  "language_info": {
   "codemirror_mode": {
    "name": "ipython",
    "version": 3
   },
   "file_extension": ".py",
   "mimetype": "text/x-python",
   "name": "python",
   "nbconvert_exporter": "python",
   "pygments_lexer": "ipython3",
   "version": "3.10.7"
  },
  "orig_nbformat": 4,
  "vscode": {
   "interpreter": {
    "hash": "5addf786bcd861d1ce5006f23111f8cbb206731e5b61b0a5632ba9e0252558a8"
   }
  }
 },
 "nbformat": 4,
 "nbformat_minor": 2
}
