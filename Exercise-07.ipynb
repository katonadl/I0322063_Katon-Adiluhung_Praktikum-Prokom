{
 "cells": [
  {
   "cell_type": "code",
   "execution_count": 2,
   "metadata": {},
   "outputs": [
    {
     "data": {
      "text/plain": [
       "[[2, 1], [3, 2]]"
      ]
     },
     "execution_count": 2,
     "metadata": {},
     "output_type": "execute_result"
    }
   ],
   "source": [
    "#Buatlah sebuah fungsi untuk membuat matrix berdasarkan input dari user\n",
    "\n",
    "def create_matrix(baris,kolom):\n",
    "    matrix = []\n",
    "\n",
    "#Tulis kode kamu disini\n",
    "    for i in range(baris):\n",
    "\n",
    "#Menambahkan baris kosong pada matriks\n",
    "        matrix.append([])\n",
    "        for j in range(kolom):\n",
    "\n",
    "#Memasukkan elemen matriks\n",
    "            elemen = int(input(f\"masukkan elemen matriks [{i}][{j}]: \"))\n",
    "            matrix[i].append(elemen)\n",
    "\n",
    "    return matrix\n",
    "\n",
    "\n",
    "baris = int(input('\\tMasukkan Jumlah Baris:'))\n",
    "kolom = int(input('\\tMasukkan Jumlah Kolom:'))\n",
    "\n",
    "create_matrix(baris,kolom)"
   ]
  },
  {
   "cell_type": "code",
   "execution_count": 3,
   "metadata": {},
   "outputs": [
    {
     "data": {
      "text/plain": [
       "array([[-1,  0],\n",
       "       [ 1, -1]])"
      ]
     },
     "execution_count": 3,
     "metadata": {},
     "output_type": "execute_result"
    }
   ],
   "source": [
    "#Buatlah fungsi untuk melakukan pengurangan antar dua matrix berdasarkan input user\n",
    "\n",
    "import numpy as np\n",
    "def kurang_matrix(matrixA, matrixB):\n",
    "    kurang = [[0,0],\n",
    "              [0,0]]\n",
    "\n",
    "    #Tulis kode kamu disini\n",
    "    kurang = matrixA - matrixB\n",
    "    return kurang\n",
    "    print(kurang)\n",
    "\n",
    "matrixA = np.array([[2,1],[3,2]])\n",
    "matrixB = np.array([[3,1],[2,3]])\n",
    "\n",
    "kurang_matrix(matrixA,matrixB)\n"
   ]
  },
  {
   "cell_type": "code",
   "execution_count": 4,
   "metadata": {},
   "outputs": [
    {
     "data": {
      "text/plain": [
       "[[2.0, 3.0], [4.0, 5.0]]"
      ]
     },
     "execution_count": 4,
     "metadata": {},
     "output_type": "execute_result"
    }
   ],
   "source": [
    "#Buatlah Fungsi untuk melakukan pembagian matrix dengan skalar berdasarkan input user\n",
    "\n",
    "def bagi_matrix(matrix1, skalar):\n",
    "    hasil = [[0,0],\n",
    "             [0,0]]\n",
    "\n",
    "    #Tulis kode kamu disini\n",
    "    for x in range (len(matrix1)):\n",
    "        for y in range (len(matrix1[x])):\n",
    "            hasil[x][y] = matrix1[x][y]/skalar\n",
    "\n",
    "    return hasil\n",
    "\n",
    "matrix1 = [[6,9],\n",
    "           [12,15]]\n",
    "skalar = int(input('Matrix dibagi berapa?\\t'))\n",
    "\n",
    "bagi_matrix(matrix1, skalar)"
   ]
  }
 ],
 "metadata": {
  "kernelspec": {
   "display_name": "Python 3",
   "language": "python",
   "name": "python3"
  },
  "language_info": {
   "codemirror_mode": {
    "name": "ipython",
    "version": 3
   },
   "file_extension": ".py",
   "mimetype": "text/x-python",
   "name": "python",
   "nbconvert_exporter": "python",
   "pygments_lexer": "ipython3",
   "version": "3.10.7"
  },
  "orig_nbformat": 4
 },
 "nbformat": 4,
 "nbformat_minor": 2
}
