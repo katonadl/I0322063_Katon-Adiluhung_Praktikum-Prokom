{
 "cells": [
  {
   "attachments": {},
   "cell_type": "markdown",
   "metadata": {},
   "source": [
    "1. Tulis program dengan fungsi untuk menentukan yang paling besar dari empat angka yang diberikan!\n",
    "     ###### Note: Angka ditentukan sendiri oleh praktikan"
   ]
  },
  {
   "cell_type": "code",
   "execution_count": 1,
   "metadata": {},
   "outputs": [
    {
     "name": "stdout",
     "output_type": "stream",
     "text": [
      "angka:  (27, 9, 81, 49)\n",
      "angka yang paling besar ialah: 81\n"
     ]
    }
   ],
   "source": [
    "# Kerjakan Nomor 1 di bawah ini\n",
    "A1 = int(input(\"angka pertama: \"))\n",
    "A2 = int(input(\"angka kedua: \"))\n",
    "A3 = int(input(\"angka ketiga: \"))\n",
    "A4 = int(input(\"angka keempat: \"))\n",
    "\n",
    "angka = A1,A2,A3,A4\n",
    "print(\"angka: \", angka)\n",
    "print(f\"angka yang paling besar ialah: {max(angka)}\")"
   ]
  },
  {
   "attachments": {},
   "cell_type": "markdown",
   "metadata": {},
   "source": [
    "2. Tulis fungsi Python yang mengambil list awal dan menampilkan list baru dengan angka unik (tidak ada angka yang sama) dari list yang pertama."
   ]
  },
  {
   "cell_type": "code",
   "execution_count": null,
   "metadata": {},
   "outputs": [],
   "source": [
    "list_awal = [9,9,9,9,9,9,9,10,11,13,14,15,17,19]"
   ]
  },
  {
   "cell_type": "code",
   "execution_count": 2,
   "metadata": {},
   "outputs": [
    {
     "name": "stdout",
     "output_type": "stream",
     "text": [
      "list awal:  [9, 9, 9, 9, 9, 9, 9, 10, 11, 13, 14, 15, 17, 19]\n",
      "list baru angka unik:  [9, 10, 11, 13, 14, 15, 17, 19]\n"
     ]
    }
   ],
   "source": [
    "# Kerjakan Nomor 2 di bawah ini\n",
    "def angkaunik(list_awal):\n",
    "    list_baru = list(set(list_awal))\n",
    "    return list_baru\n",
    "\n",
    "list_awal = [9,9,9,9,9,9,9,10,11,13,14,15,17,19]\n",
    "list_akhir = angkaunik(list_awal)\n",
    "\n",
    "print(\"list awal: \", list_awal)\n",
    "print(\"list baru angka unik: \", list_akhir)\n"
   ]
  },
  {
   "attachments": {},
   "cell_type": "markdown",
   "metadata": {},
   "source": [
    "3. Hitunglah 2 angka yang dapat diinputkan dengan angka kedua menjadi pangkat bagi angka pertama, dan angka kedua menjadi pembagi angka pertama (tampilkan juga sisa hasil pembagiannya) \n",
    "\n",
    "clue : gunakan fungsi yang ada di built-in tanpa menggunakan sintaks operator seperti * ataupun /."
   ]
  },
  {
   "cell_type": "code",
   "execution_count": 3,
   "metadata": {},
   "outputs": [
    {
     "name": "stdout",
     "output_type": "stream",
     "text": [
      "25 pangkat 5 yaitu 9765625\n",
      "25 dibagi 5 yaitu 5\n",
      "sisa dari hasil pembagian 25 dibagi 5 yaitu 0\n"
     ]
    }
   ],
   "source": [
    "# Kerjakan Nomor 3 di bawah ini\n",
    "angka1 = int(input(\"masukkan angka pertama: \"))\n",
    "angka2 = int(input(\"masukkan angka kedua: \"))\n",
    "\n",
    "def fungsi(angka1,angka2):\n",
    "    pangkat = pow(angka1,angka2)\n",
    "    pembagian = divmod(angka1,angka2)\n",
    "    sisa = pembagian[1]\n",
    "    pembagian = pembagian[0]\n",
    "    return pangkat, pembagian, sisa\n",
    "\n",
    "pangkat, pembagian, sisa = fungsi(angka1,angka2)\n",
    "print(angka1, \"pangkat\", angka2, \"yaitu\", pangkat)\n",
    "print(angka1, \"dibagi\", angka2, \"yaitu\", pembagian)\n",
    "print(\"sisa dari hasil pembagian\", angka1, \"dibagi\", angka2, \"yaitu\", sisa)"
   ]
  }
 ],
 "metadata": {
  "kernelspec": {
   "display_name": "Python 3",
   "language": "python",
   "name": "python3"
  },
  "language_info": {
   "codemirror_mode": {
    "name": "ipython",
    "version": 3
   },
   "file_extension": ".py",
   "mimetype": "text/x-python",
   "name": "python",
   "nbconvert_exporter": "python",
   "pygments_lexer": "ipython3",
   "version": "3.10.7"
  },
  "orig_nbformat": 4,
  "vscode": {
   "interpreter": {
    "hash": "5addf786bcd861d1ce5006f23111f8cbb206731e5b61b0a5632ba9e0252558a8"
   }
  }
 },
 "nbformat": 4,
 "nbformat_minor": 2
}
