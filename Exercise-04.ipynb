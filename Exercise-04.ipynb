{
 "cells": [
  {
   "cell_type": "code",
   "execution_count": 20,
   "metadata": {},
   "outputs": [
    {
     "name": "stdout",
     "output_type": "stream",
     "text": [
      "Katon Adiluhung\n",
      "I0322063\n",
      "B\n"
     ]
    }
   ],
   "source": [
    "print(input(\"Nama: \"))\n",
    "print(input(\"NIM: \"))\n",
    "print(input(\"Kelas: \"))"
   ]
  },
  {
   "attachments": {},
   "cell_type": "markdown",
   "metadata": {},
   "source": [
    "## 1."
   ]
  },
  {
   "attachments": {},
   "cell_type": "markdown",
   "metadata": {},
   "source": [
    "Buatlah program yang meminta input string dari user, kemudian program akan menentukan string tersebut adalah palyndrome atau bukan.<br>\n",
    "* Palyndrome adalah kata atau kalimat yang jika dibalik hasilnya sama\n",
    "* kasur rusak adalah palyndrome\n",
    "\n",
    "> *note: Kerjakan soal ini dengan percabangan*"
   ]
  },
  {
   "cell_type": "code",
   "execution_count": 5,
   "metadata": {},
   "outputs": [
    {
     "name": "stdout",
     "output_type": "stream",
     "text": [
      "makam merupakan palyndrome\n"
     ]
    }
   ],
   "source": [
    "# Kerjakan soal no 1 di sini\n",
    "\n",
    "kata = str(input())\n",
    "hasil = kata[::-1]\n",
    "\n",
    "if kata == hasil:\n",
    "    print(kata, \"merupakan palyndrome\")\n",
    "else:\n",
    "    print(kata, \"bukan merupakan palyndrome\")"
   ]
  },
  {
   "attachments": {},
   "cell_type": "markdown",
   "metadata": {},
   "source": [
    "## 2."
   ]
  },
  {
   "attachments": {},
   "cell_type": "markdown",
   "metadata": {},
   "source": [
    "Buatlah program yang meminta input berupa tahun dan bulan kemudian tampilkan jumlah hari pada bulan tersebut (perbedaan pada tahun kabisat).<br>\n",
    "\n",
    "> *note: Kerjakan soal ini dengan percabangan*"
   ]
  },
  {
   "cell_type": "code",
   "execution_count": 19,
   "metadata": {},
   "outputs": [
    {
     "name": "stdout",
     "output_type": "stream",
     "text": [
      "total hari pada bulan Februari tahun 2004 adalah 29\n"
     ]
    }
   ],
   "source": [
    "# Kerjakan soal no 2 di sini\n",
    "tahun = int(input(\"masukkan tahun =\"))\n",
    "bulan_pertama = input(\"masukkan bulan =\")\n",
    "bulan_kedua = bulan_pertama.lower()\n",
    "\n",
    "uji = {\n",
    "    'kabisat': {\n",
    "    'januari': 31, 'februari': 29, 'maret': 31, 'april': 30, 'mei': 31, 'juni': 30,\n",
    "    'juli': 31, 'agustus': 31, 'september': 30, 'oktober': 31, 'november': 30, 'desember': 31\n",
    "    },\n",
    "    'tidak kabisat': {\n",
    "   'januari': 31, 'februari': 28, 'maret': 31, 'april': 30, 'mei': 31, 'juni': 30,\n",
    "    'juli': 31, 'agustus': 31, 'september': 30, 'oktober': 31, 'november': 30, 'desember': 31\n",
    "    }\n",
    "}\n",
    "\n",
    "if tahun % 4 == 0 and (tahun % 100 != 0 or tahun % 400 == 0):\n",
    "    print(\"total hari pada bulan\",bulan_pertama,\"tahun\",tahun,\"adalah\",(uji['kabisat'][bulan_kedua]))\n",
    "else:\n",
    "    print(\"total hari pada bulan\",bulan_pertama,\"tahun\",tahun,\"adalah\",(uji['tidak kabisat'][bulan_kedua]))"
   ]
  }
 ],
 "metadata": {
  "kernelspec": {
   "display_name": "Python 3",
   "language": "python",
   "name": "python3"
  },
  "language_info": {
   "codemirror_mode": {
    "name": "ipython",
    "version": 3
   },
   "file_extension": ".py",
   "mimetype": "text/x-python",
   "name": "python",
   "nbconvert_exporter": "python",
   "pygments_lexer": "ipython3",
   "version": "3.10.7"
  },
  "orig_nbformat": 4
 },
 "nbformat": 4,
 "nbformat_minor": 2
}
