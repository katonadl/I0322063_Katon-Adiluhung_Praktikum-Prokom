{
 "cells": [
  {
   "attachments": {},
   "cell_type": "markdown",
   "metadata": {},
   "source": [
    "1. Diberikan List sebagai berikut!"
   ]
  },
  {
   "cell_type": "code",
   "execution_count": null,
   "metadata": {},
   "outputs": [],
   "source": [
    "list1 = ['a','b','c']\n",
    "list1 = ['c','d','e']"
   ]
  },
  {
   "attachments": {},
   "cell_type": "markdown",
   "metadata": {},
   "source": [
    "Buatlah program pengulangan untuk menampilkan elemen dalam kedua list tersebut yang sama! (Contoh Output \"Nilai yang sama adalah 'C'\")"
   ]
  },
  {
   "cell_type": "code",
   "execution_count": 1,
   "metadata": {},
   "outputs": [
    {
     "name": "stdout",
     "output_type": "stream",
     "text": [
      "Nilai yang sama adalah c\n"
     ]
    }
   ],
   "source": [
    "# Kerjakan nomor 1 di sini\n",
    "list1 = ['a','b','c']\n",
    "list2 = ['c','d','e']\n",
    "\n",
    "for huruf in list1:\n",
    "    if huruf in list2:\n",
    "        print(\"Nilai yang sama adalah\", huruf)"
   ]
  },
  {
   "attachments": {},
   "cell_type": "markdown",
   "metadata": {},
   "source": [
    "2. Buatlah sebuah list yang berisi daftar mata kuliah di Teknik Industri UNS (minimal 10 matkul). Kemudian buat program pencarian menggunakan pengulangan. Apabila nama matkul yang user inputkan sudah sesuai dengan isi list maka program akan berhenti dan menampilkan output \"Mata Kuliah (matkul yang diinput user) adalah mata kuliah di Teknik Industri UNS\"."
   ]
  },
  {
   "cell_type": "code",
   "execution_count": 11,
   "metadata": {},
   "outputs": [
    {
     "name": "stdout",
     "output_type": "stream",
     "text": [
      "Mata kuliah akuntansi bukan merupakan mata kuliah di Teknik Industri UNS\n",
      "Mata kuliah matematika dasar bukan merupakan mata kuliah di Teknik Industri UNS\n",
      "Mata kuliah mekanikateknik merupakan mata kuliah di Teknik Industri UNS\n"
     ]
    }
   ],
   "source": [
    "# Kerjakan nomor 2 di sini\n",
    "matakuliah_ti = [\"PRD\",\"psikologiindustri\",\"biologi\",\"kalkulus\",\"prokom\",\"materialteknik\",\n",
    "                 \"mekanikateknik\",\"fisdas2\",\"AEB\",\"PTI\"]\n",
    "\n",
    "while True:\n",
    "    mata_kuliah = input(\"masukkan mata kuliah: \")\n",
    "    if mata_kuliah in matakuliah_ti:\n",
    "        print(\"Mata kuliah\", mata_kuliah, \"merupakan mata kuliah di Teknik Industri UNS\")\n",
    "        break\n",
    "    else:\n",
    "        print(\"Mata kuliah\", mata_kuliah, \"bukan merupakan mata kuliah di Teknik Industri UNS\")"
   ]
  },
  {
   "attachments": {},
   "cell_type": "markdown",
   "metadata": {},
   "source": [
    "3. Buatlah program untuk menampilkan faktorial dari suatu bilangan dimana bilangan tersebut didapat melalui input user!"
   ]
  },
  {
   "cell_type": "code",
   "execution_count": 8,
   "metadata": {},
   "outputs": [
    {
     "name": "stdout",
     "output_type": "stream",
     "text": [
      "hasil faktorial dari 27 yaitu 10888869450418352160768000000\n"
     ]
    }
   ],
   "source": [
    "# Kerjakan nomor 3 di sini\n",
    "a = int(input(\"masukkan nilai a: \"))\n",
    "faktorial = 1\n",
    "\n",
    "for i in range(1, a+1):\n",
    "    faktorial*= i\n",
    "print(\"hasil faktorial dari\", a, \"yaitu\", faktorial)"
   ]
  }
 ],
 "metadata": {
  "kernelspec": {
   "display_name": "Python 3",
   "language": "python",
   "name": "python3"
  },
  "language_info": {
   "codemirror_mode": {
    "name": "ipython",
    "version": 3
   },
   "file_extension": ".py",
   "mimetype": "text/x-python",
   "name": "python",
   "nbconvert_exporter": "python",
   "pygments_lexer": "ipython3",
   "version": "3.10.7"
  },
  "orig_nbformat": 4
 },
 "nbformat": 4,
 "nbformat_minor": 2
}
